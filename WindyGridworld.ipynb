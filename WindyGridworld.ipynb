{
 "cells": [
  {
   "cell_type": "markdown",
   "metadata": {},
   "source": [
    "# WindyGridworld from the book \"Reinforcement Learning an : Introduction (Sutton & Barto)\""
   ]
  },
  {
   "cell_type": "markdown",
   "metadata": {},
   "source": [
    "## Useful libraries"
   ]
  },
  {
   "cell_type": "code",
   "execution_count": null,
   "metadata": {},
   "outputs": [],
   "source": [
    "import gym\n",
    "from gym import spaces\n",
    "import numpy as np\n",
    "import matplotlib.pyplot as plt"
   ]
  },
  {
   "cell_type": "markdown",
   "metadata": {},
   "source": [
    "## Creation of the environment"
   ]
  },
  {
   "cell_type": "code",
   "execution_count": 187,
   "metadata": {},
   "outputs": [],
   "source": [
    "class WindyGridworld(gym.Env):\n",
    "\n",
    "    def __init__(self, stochastic=False):\n",
    "        self.stochastic = stochastic\n",
    "        self.width = 10\n",
    "        self.height = 7\n",
    "        self.observation_space = spaces.MultiDiscrete([self.height, self.width])\n",
    "        self.action_space = spaces.Discrete(8)\n",
    "        self.low = np.array([0, 0])\n",
    "        self.high = np.array([self.height, self.width])\n",
    "        self.wind = np.array([0, 0, 0, 1, 1, 1, 2, 2, 1, 0])\n",
    "        self.actions_map = [\n",
    "            (-1, -1), # ↖\n",
    "            (-1, 0),  # ↑\n",
    "            (-1, 1),  # ↗\n",
    "            (0, -1),  # ←\n",
    "            (0, 1),   # →\n",
    "            (1, -1),  # ↙\n",
    "            (1, 0),   # ↓\n",
    "            (1, 1),   # ↘\n",
    "        ]\n",
    "        self.final_state = np.array([3, 7])\n",
    "        self.stochastic_variation = np.array([-1, 0, 1])\n",
    "\n",
    "    def step(self, action: int):\n",
    "        \"\"\"\n",
    "        actions :\n",
    "\n",
    "            (0)  (1)  (2)\n",
    "                ↖ ↑ ↗\n",
    "            (3) ←   → (4)\n",
    "                ↙ ↓ ↘\n",
    "            (5)  (6)  (7)\n",
    "\n",
    "        \"\"\"\n",
    "\n",
    "        new_state = np.array(self.state)\n",
    "        new_state += self.actions_map[action]  # The move\n",
    "        \n",
    "        if new_state[1] < 0 : new_state[1] = 0\n",
    "        if new_state[1] >= self.width : new_state[1] = self.width-1\n",
    "\n",
    "        variation = 0\n",
    "        if self.stochastic and self.wind[self.state[1]] != 0:\n",
    "            variation += np.random.choice(self.stochastic_variation)\n",
    "\n",
    "        new_state[0] -= self.wind[self.state[1]] + variation # The wind\n",
    "\n",
    "        if new_state[0] < 0 : new_state[0] = 0\n",
    "        if new_state[0] >= self.height : new_state[0] = self.height-1\n",
    "            \n",
    "        self.state = np.array(new_state)\n",
    "\n",
    "        done = (self.state == self.final_state).all()\n",
    "\n",
    "        return np.array(self.state), -1, done, {}\n",
    "\n",
    "    def reset(self):\n",
    "        self.state = np.array([3, 0])\n",
    "        return self.state\n",
    "\n",
    "    def render(self):\n",
    "        fig = plt.figure()\n",
    "        img = np.tile(self.wind, (self.height, 1))\n",
    "        ax = fig.add_subplot(1, 1, 1)\n",
    "        ax.imshow(img, cmap='Blues', interpolation='nearest')\n",
    "        ax.plot(self.final_state[1], self.final_state[0], 'og')\n",
    "        ax.plot(self.state[1], self.state[0], 'ok')\n",
    "        ax.set_xticks(np.arange(self.width))\n",
    "        ax.set_xticks(np.arange(0.5, self.width), minor=True)\n",
    "        ax.set_yticks(np.arange(self.height))\n",
    "        ax.set_yticks(np.arange(0.5, self.height), minor=True)\n",
    "        ax.grid(which='minor')\n",
    "        \n",
    "        plt.show()\n",
    "    \n",
    "    def render_policy(self, policy):\n",
    "        # create the grid\n",
    "        fig = plt.figure()\n",
    "        img = np.tile(self.wind, (self.height, 1))\n",
    "        ax = fig.add_subplot(1, 1, 1)\n",
    "        ax.imshow(img, cmap='Blues', interpolation='nearest')\n",
    "        ax.plot(self.final_state[1], self.final_state[0], 'og')\n",
    "        ax.set_xticks(np.arange(self.width), labels=self.wind)\n",
    "        ax.set_xticks(np.arange(0.5, self.width), minor=True)\n",
    "        ax.set_yticks(np.arange(0.5, self.height), minor=True)\n",
    "        ax.grid(which='minor')\n",
    "        ax.set_yticks([])\n",
    "\n",
    "        # plot the path\n",
    "        state = tuple(self.reset())\n",
    "        done = False\n",
    "        nb_steps = 0\n",
    "        while not done:\n",
    "            nb_steps += 1\n",
    "            new_state, _, done, _ = self.step(policy[state])\n",
    "            ax.plot((state[1], new_state[1]), (state[0], new_state[0]))\n",
    "            state = tuple(new_state)\n",
    "            done = done or nb_steps > 20\n",
    "        \n",
    "        plt.show()\n",
    "        if nb_steps > 20:\n",
    "            print(f'The agent didnt reach the goal after 20 steps')\n",
    "        else:\n",
    "            print(f'End in {nb_steps} steps')"
   ]
  },
  {
   "cell_type": "markdown",
   "metadata": {},
   "source": [
    "## Implementation of the Sarsa algorithm (On-policy TD Control)"
   ]
  },
  {
   "cell_type": "code",
   "execution_count": 188,
   "metadata": {},
   "outputs": [],
   "source": [
    "class Sarsa(object):\n",
    "    def learn(self, env, nb_episode, alpha=.5, eps=.1, gamma=1):\n",
    "        self.actions = np.arange(env.action_space.n)\n",
    "        self.states = []\n",
    "        for x in range(env.height):\n",
    "            for y in  range(env.width):\n",
    "                self.states.append((x,y))\n",
    "        self.states = np.array(self.states)\n",
    "        self.Q = {tuple(s): np.random.rand(env.action_space.n) for s in self.states}\n",
    "        self.Q[tuple(env.final_state)] = np.array([0] * env.action_space.n)\n",
    "        self.policy = {tuple(s): np.argmax(self.Q[tuple(s)]) for s in self.states}\n",
    "        timesteps = []\n",
    "        nb_steps = 0\n",
    "        for e in range(nb_episode):\n",
    "            state = tuple(env.reset())\n",
    "            if np.random.rand() < eps:\n",
    "                action = env.action_space.sample()\n",
    "            else:\n",
    "                action = self.policy[state]\n",
    "            done = False\n",
    "            while not done:\n",
    "                nb_steps += 1\n",
    "                new_state, reward, done, _ = env.step(action)\n",
    "                new_state = tuple(new_state)\n",
    "                if np.random.rand() < eps:\n",
    "                    new_action = env.action_space.sample()\n",
    "                else:\n",
    "                    new_action = self.policy[new_state]\n",
    "                self.Q[state][action] += alpha * (reward + gamma * self.Q[new_state][new_action] - self.Q[state][action])\n",
    "                self.policy[state] = np.argmax(self.Q[state])\n",
    "                state = new_state\n",
    "                action = new_action\n",
    "            timesteps.append(nb_steps)\n",
    "        return self.policy, timesteps"
   ]
  },
  {
   "cell_type": "markdown",
   "metadata": {},
   "source": [
    "## Results for deterministic wind and King's Moves"
   ]
  },
  {
   "cell_type": "code",
   "execution_count": 189,
   "metadata": {},
   "outputs": [],
   "source": [
    "env = WindyGridworld()\n",
    "agent = Sarsa()\n",
    "nb_episodes = 1000\n",
    "learned_policy, timesteps = agent.learn(env, nb_episodes, alpha=0.1)"
   ]
  },
  {
   "cell_type": "code",
   "execution_count": 190,
   "metadata": {},
   "outputs": [
    {
     "data": {
      "text/plain": [
       "Text(0, 0.5, 'Episodes')"
      ]
     },
     "execution_count": 190,
     "metadata": {},
     "output_type": "execute_result"
    },
    {
     "data": {
      "image/png": "[encoded data removed]",
      "text/plain": [
       "<Figure size 432x288 with 1 Axes>"
      ]
     },
     "metadata": {
      "needs_background": "light"
     },
     "output_type": "display_data"
    }
   ],
   "source": [
    "plt.plot(timesteps, list(range(nb_episodes)))\n",
    "plt.xlabel('Time steps')\n",
    "plt.ylabel('Episodes')"
   ]
  },
  {
   "cell_type": "code",
   "execution_count": 191,
   "metadata": {},
   "outputs": [
    {
     "data": {
      "image/png": "[encoded data removed]",
      "text/plain": [
       "<Figure size 432x288 with 1 Axes>"
      ]
     },
     "metadata": {
      "needs_background": "light"
     },
     "output_type": "display_data"
    },
    {
     "name": "stdout",
     "output_type": "stream",
     "text": [
      "End in 7 steps\n"
     ]
    }
   ],
   "source": [
    "env.render_policy(learned_policy)"
   ]
  },
  {
   "cell_type": "markdown",
   "metadata": {},
   "source": [
    "## Results for stochastic wind and King's Moves"
   ]
  },
  {
   "cell_type": "code",
   "execution_count": 251,
   "metadata": {},
   "outputs": [],
   "source": [
    "env = WindyGridworld(True)\n",
    "agent = Sarsa()\n",
    "nb_episodes = 10000\n",
    "learned_policy, timesteps = agent.learn(env, nb_episodes, alpha=0.05)"
   ]
  },
  {
   "cell_type": "code",
   "execution_count": 252,
   "metadata": {},
   "outputs": [
    {
     "data": {
      "text/plain": [
       "Text(0, 0.5, 'Episodes')"
      ]
     },
     "execution_count": 252,
     "metadata": {},
     "output_type": "execute_result"
    },
    {
     "data": {
      "image/png": "[encoded data removed]",
      "text/plain": [
       "<Figure size 432x288 with 1 Axes>"
      ]
     },
     "metadata": {
      "needs_background": "light"
     },
     "output_type": "display_data"
    }
   ],
   "source": [
    "plt.plot(timesteps, list(range(nb_episodes)))\n",
    "plt.xlabel('Time steps')\n",
    "plt.ylabel('Episodes')"
   ]
  },
  {
   "cell_type": "code",
   "execution_count": 273,
   "metadata": {},
   "outputs": [
    {
     "data": {
      "image/png": "[encoded data removed]",
      "text/plain": [
       "<Figure size 432x288 with 1 Axes>"
      ]
     },
     "metadata": {
      "needs_background": "light"
     },
     "output_type": "display_data"
    },
    {
     "name": "stdout",
     "output_type": "stream",
     "text": [
      "End in 7 steps\n"
     ]
    }
   ],
   "source": [
    "env.render_policy(learned_policy)"
   ]
  }
 ],
 "metadata": {
  "interpreter": {
   "hash": "e769881bcc7205fadd19b78bf868c91003f60b2df77acecf760afb3b6d479f70"
  },
  "kernelspec": {
   "display_name": "Python 3.10.4 64-bit",
   "language": "python",
   "name": "python3"
  },
  "language_info": {
   "codemirror_mode": {
    "name": "ipython",
    "version": 3
   },
   "file_extension": ".py",
   "mimetype": "text/x-python",
   "name": "python",
   "nbconvert_exporter": "python",
   "pygments_lexer": "ipython3",
   "version": "3.10.4"
  },
  "orig_nbformat": 4
 },
 "nbformat": 4,
 "nbformat_minor": 2
}
